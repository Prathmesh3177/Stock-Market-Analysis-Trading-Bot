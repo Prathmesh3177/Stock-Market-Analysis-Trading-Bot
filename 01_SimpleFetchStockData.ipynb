{
  "cells": [
    {
      "cell_type": "markdown",
      "source": [
        "# Simple Download Stock Data Site"
      ],
      "metadata": {}
    },
    {
      "cell_type": "markdown",
      "source": [
        "There are many sites you can download or fetch stock historical data or fundamental data such as yahoo, google, alpha vantage, quandl and other sites. Some are free and some you have to paid. Some you will need to sign up and some you do not need to sign up."
      ],
      "metadata": {}
    },
    {
      "cell_type": "markdown",
      "source": [
        "## 1. fix yahoo is the most common\n",
        "https://pypi.org/project/fix-yahoo-finance/"
      ],
      "metadata": {}
    },
    {
      "cell_type": "code",
      "source": [
        "# Libraries\n",
        "import pandas as pd\n",
        "import numpy as np\n",
        "\n",
        "import warnings\n",
        "warnings.filterwarnings(\"ignore\")"
      ],
      "outputs": [],
      "execution_count": null,
      "metadata": {
        "collapsed": false,
        "outputHidden": false,
        "inputHidden": false
      }
    },
    {
      "cell_type": "code",
      "source": [
        "# fix_yahoo_finance is used to fetch data \n",
        "import fix_yahoo_finance as yf\n",
        "yf.pdr_override()"
      ],
      "outputs": [],
      "execution_count": null,
      "metadata": {
        "collapsed": false,
        "outputHidden": false,
        "inputHidden": false
      }
    },
    {
      "cell_type": "code",
      "source": [
        "# input\n",
        "symbol = 'AAPL'\n",
        "start = '2014-01-01'\n",
        "end = '2018-01-01'"
      ],
      "outputs": [],
      "execution_count": null,
      "metadata": {
        "collapsed": false,
        "outputHidden": false,
        "inputHidden": false
      }
    },
    {
      "cell_type": "code",
      "source": [
        "# Read data \n",
        "df = yf.download(symbol,start,end)\n",
        "\n",
        "# Only keep close columns \n",
        "df.head()"
      ],
      "outputs": [],
      "execution_count": null,
      "metadata": {
        "collapsed": false,
        "outputHidden": false,
        "inputHidden": false
      }
    },
    {
      "cell_type": "markdown",
      "source": [
        "## 2. pandas_datareader\n",
        "This library work sometimes. I recommend not to use to this one.\n",
        "\nhttps://pandas-datareader.readthedocs.io/en/latest/"
      ],
      "metadata": {}
    },
    {
      "cell_type": "code",
      "source": [
        "from pandas_datareader import data as pdr"
      ],
      "outputs": [],
      "execution_count": null,
      "metadata": {}
    },
    {
      "cell_type": "code",
      "source": [
        "symbol = 'AAPL'\n",
        "start = '2014-01-01'\n",
        "end = '2018-01-01'\n",
        "data = pdr.get_data_yahoo(symbol, start, end)"
      ],
      "outputs": [],
      "execution_count": null,
      "metadata": {
        "collapsed": false,
        "outputHidden": false,
        "inputHidden": false
      }
    },
    {
      "cell_type": "code",
      "source": [
        "data.head()"
      ],
      "outputs": [],
      "execution_count": null,
      "metadata": {
        "collapsed": false,
        "outputHidden": false,
        "inputHidden": false
      }
    },
    {
      "cell_type": "markdown",
      "source": [
        "## 3. alpha_vantage\n",
        "https://alpha-vantage.readthedocs.io/en/latest/\n",
        "\n",
        "For this one, you will need to sign up and is free. You will get a free api key.\n",
        "\nhttps://www.alphavantage.co/support/#api-key"
      ],
      "metadata": {}
    },
    {
      "cell_type": "code",
      "source": [
        "from alpha_vantage.timeseries import TimeSeries"
      ],
      "outputs": [],
      "execution_count": null,
      "metadata": {}
    },
    {
      "cell_type": "code",
      "source": [
        "ts = TimeSeries(key='...') # Input your API KEY in ...\n",
        "# Get json object with the intraday data and another with  the call's metadata\n",
        "data, meta_data = ts.get_intraday('AAPL')\n",
        "data.head()"
      ],
      "outputs": [],
      "execution_count": null,
      "metadata": {
        "collapsed": false,
        "outputHidden": false,
        "inputHidden": false
      }
    },
    {
      "cell_type": "markdown",
      "source": [
        "## 4. iexfinance"
      ],
      "metadata": {}
    },
    {
      "cell_type": "code",
      "source": [
        "from iexfinance import Stock"
      ],
      "outputs": [],
      "execution_count": null,
      "metadata": {
        "collapsed": false,
        "outputHidden": false,
        "inputHidden": false
      }
    },
    {
      "cell_type": "code",
      "source": [
        "tsla = Stock(symbol)\n",
        "tsla.get_open()\n",
        "tsla.get_price()"
      ],
      "outputs": [],
      "execution_count": null,
      "metadata": {
        "collapsed": false,
        "outputHidden": false,
        "inputHidden": false
      }
    },
    {
      "cell_type": "code",
      "source": [
        "from datetime import datetime\n",
        "\n",
        "start = datetime(2014, 1, 1)\n",
        "end = datetime(2018, 1, 1)\n",
        "\n",
        "df = get_historical_data(\"AAPL\", start=start, end=end, output_format='pandas')\n",
        "df.head()"
      ],
      "outputs": [],
      "execution_count": null,
      "metadata": {
        "collapsed": false,
        "outputHidden": false,
        "inputHidden": false
      }
    },
    {
      "cell_type": "markdown",
      "source": [
        "## 5. quandl \n",
        "\nFor this one you need to sign up and is very limited."
      ],
      "metadata": {}
    },
    {
      "cell_type": "code",
      "source": [
        "# import needed libraries\n",
        "import quandl"
      ],
      "outputs": [],
      "execution_count": null,
      "metadata": {}
    },
    {
      "cell_type": "code",
      "source": [
        "token = \"...\" # Input your token ...\n",
        "data = quandl.get(\"WIKI/AAPL\", start_date=\"2014-01-01\", end_date=\"2018-01-01\", api_key=token)"
      ],
      "outputs": [],
      "execution_count": null,
      "metadata": {
        "collapsed": false,
        "outputHidden": false,
        "inputHidden": false
      }
    },
    {
      "cell_type": "markdown",
      "source": [
        "## 5. Yahoo, Google, or other sites (download csv)\n",
        "This one has historical data and economic data.\n",
        "\n",
        "For example: https://finance.yahoo.com/quote/AAPL/history?p=AAPL\n",
        "\nYou should see: Download Data and click that icon. "
      ],
      "metadata": {}
    },
    {
      "cell_type": "code",
      "source": [
        "aapl.to_csv('aapl.csv') # Make sure you have the right directory path\n",
        "df = pd.read_csv('aapl.csv', header=0, index_col='Date', parse_dates=True)"
      ],
      "outputs": [],
      "execution_count": null,
      "metadata": {
        "collapsed": false,
        "outputHidden": false,
        "inputHidden": false
      }
    },
    {
      "cell_type": "markdown",
      "source": [
        "## 6. yahoo-finance\n",
        "\nhttps://github.com/lukaszbanasiak/yahoo-finance"
      ],
      "metadata": {}
    },
    {
      "cell_type": "code",
      "source": [
        "from yahoo_finance import Share"
      ],
      "outputs": [],
      "execution_count": null,
      "metadata": {
        "collapsed": false,
        "outputHidden": false,
        "inputHidden": false
      }
    },
    {
      "cell_type": "code",
      "source": [
        "data = Share('AAPL')\n",
        "print(data.get_open())\n",
        "print(data.get_price())"
      ],
      "outputs": [],
      "execution_count": null,
      "metadata": {
        "collapsed": false,
        "outputHidden": false,
        "inputHidden": false
      }
    },
    {
      "cell_type": "code",
      "source": [
        "# Get Historical Data\n",
        "# This one does not show nice dataframe\n",
        "print(data.get_historical('2014-01-01', '2018-01-01'))"
      ],
      "outputs": [],
      "execution_count": null,
      "metadata": {
        "collapsed": false,
        "outputHidden": false,
        "inputHidden": false
      }
    },
    {
      "cell_type": "markdown",
      "source": [
        "## 7. Macrotrends\n",
        "\n",
        "Scrape Data\n",
        "\nhttps://www.macrotrends.net/"
      ],
      "metadata": {}
    },
    {
      "cell_type": "code",
      "source": [
        "symbol = 'AAPL'\n",
        "url = 'https://www.macrotrends.net/assets/php/stock_data_export.php?t=' + symbol\n",
        "stock_price = pd.read_csv(url, skiprows=10)"
      ],
      "outputs": [],
      "execution_count": 9,
      "metadata": {
        "collapsed": false,
        "outputHidden": false,
        "inputHidden": false
      }
    },
    {
      "cell_type": "code",
      "source": [
        "stock_price.head()"
      ],
      "outputs": [
        {
          "output_type": "execute_result",
          "execution_count": 10,
          "data": {
            "text/html": [
              "<div>\n",
              "<style scoped>\n",
              "    .dataframe tbody tr th:only-of-type {\n",
              "        vertical-align: middle;\n",
              "    }\n",
              "\n",
              "    .dataframe tbody tr th {\n",
              "        vertical-align: top;\n",
              "    }\n",
              "\n",
              "    .dataframe thead th {\n",
              "        text-align: right;\n",
              "    }\n",
              "</style>\n",
              "<table border=\"1\" class=\"dataframe\">\n",
              "  <thead>\n",
              "    <tr style=\"text-align: right;\">\n",
              "      <th></th>\n",
              "      <th>date</th>\n",
              "      <th>open</th>\n",
              "      <th>high</th>\n",
              "      <th>low</th>\n",
              "      <th>close</th>\n",
              "      <th>volume</th>\n",
              "    </tr>\n",
              "  </thead>\n",
              "  <tbody>\n",
              "    <tr>\n",
              "      <th>0</th>\n",
              "      <td>1980-12-12</td>\n",
              "      <td>0.4164</td>\n",
              "      <td>0.4182</td>\n",
              "      <td>0.4164</td>\n",
              "      <td>0.4164</td>\n",
              "      <td>117258400</td>\n",
              "    </tr>\n",
              "    <tr>\n",
              "      <th>1</th>\n",
              "      <td>1980-12-15</td>\n",
              "      <td>0.3966</td>\n",
              "      <td>0.3966</td>\n",
              "      <td>0.3947</td>\n",
              "      <td>0.3947</td>\n",
              "      <td>43971200</td>\n",
              "    </tr>\n",
              "    <tr>\n",
              "      <th>2</th>\n",
              "      <td>1980-12-16</td>\n",
              "      <td>0.3675</td>\n",
              "      <td>0.3675</td>\n",
              "      <td>0.3657</td>\n",
              "      <td>0.3657</td>\n",
              "      <td>26432000</td>\n",
              "    </tr>\n",
              "    <tr>\n",
              "      <th>3</th>\n",
              "      <td>1980-12-17</td>\n",
              "      <td>0.3747</td>\n",
              "      <td>0.3766</td>\n",
              "      <td>0.3747</td>\n",
              "      <td>0.3747</td>\n",
              "      <td>21610400</td>\n",
              "    </tr>\n",
              "    <tr>\n",
              "      <th>4</th>\n",
              "      <td>1980-12-18</td>\n",
              "      <td>0.3857</td>\n",
              "      <td>0.3874</td>\n",
              "      <td>0.3857</td>\n",
              "      <td>0.3857</td>\n",
              "      <td>18362400</td>\n",
              "    </tr>\n",
              "  </tbody>\n",
              "</table>\n",
              "</div>"
            ],
            "text/plain": [
              "         date    open    high     low   close     volume\n",
              "0  1980-12-12  0.4164  0.4182  0.4164  0.4164  117258400\n",
              "1  1980-12-15  0.3966  0.3966  0.3947  0.3947   43971200\n",
              "2  1980-12-16  0.3675  0.3675  0.3657  0.3657   26432000\n",
              "3  1980-12-17  0.3747  0.3766  0.3747  0.3747   21610400\n",
              "4  1980-12-18  0.3857  0.3874  0.3857  0.3857   18362400"
            ]
          },
          "metadata": {}
        }
      ],
      "execution_count": 10,
      "metadata": {
        "collapsed": false,
        "outputHidden": false,
        "inputHidden": false
      }
    },
    {
      "cell_type": "markdown",
      "source": [
        "## 8. eoddata-client\n",
        "\n",
        "This one is not free. You will need to paid for the service.\n",
        "\n",
        "https://github.com/apologist/eoddata-client\n",
        "\nhttp://eoddata.com/"
      ],
      "metadata": {}
    },
    {
      "cell_type": "code",
      "source": [
        "import os\n",
        "\n",
        "from eoddata_client import EodDataHttpClient\n",
        "\n",
        "client = EodDataHttpClient(os.environ['EOD_DATA_LOGIN'],\n",
        "                           os.environ['EOD_DATA_PASSWORD'])\n",
        "\n",
        "quotes = client.symbol_history('nasdaq', 'aapl', datetime.date(2014, 1, 1))\n",
        "quotes['Diff'] = quotes['Close'].shift(1) - quotes['Close']\n",
        "print(quotes.tail())"
      ],
      "outputs": [],
      "execution_count": null,
      "metadata": {
        "collapsed": false,
        "outputHidden": false,
        "inputHidden": false
      }
    },
    {
      "cell_type": "markdown",
      "source": [
        "## 9. yahoo-historical\n",
        "\nhttps://pypi.org/project/yahoo-historical/"
      ],
      "metadata": {}
    },
    {
      "cell_type": "code",
      "source": [
        "from yahoo_historical import Fetcher\n",
        "data = Fetcher(\"AAPL\", [2014,1,1], [2018,1,1])\n",
        "print(data.getHistorical())"
      ],
      "outputs": [],
      "execution_count": null,
      "metadata": {}
    },
    {
      "cell_type": "markdown",
      "source": [
        "## 10. yahoofinancials\n",
        "\n",
        "This one is to get fundamental data.\n",
        "\nhttps://github.com/JECSand/yahoofinancials"
      ],
      "metadata": {}
    },
    {
      "cell_type": "code",
      "source": [
        "from yahoofinancials import YahooFinancials\n",
        "\n",
        "ticker = 'AAPL'\n",
        "yahoo_financials = YahooFinancials(ticker)"
      ],
      "outputs": [],
      "execution_count": null,
      "metadata": {}
    },
    {
      "cell_type": "markdown",
      "source": [
        "## 11. pandas-finance"
      ],
      "metadata": {}
    },
    {
      "cell_type": "markdown",
      "source": [
        "https://github.com/davidastephens/pandas-finance"
      ],
      "metadata": {}
    },
    {
      "cell_type": "code",
      "source": [
        "from pandas_finance import Equity\n",
        "aapl = Equity('AAPL')\n",
        "aapl.annual_dividend\n",
        "aapl.dividend_yield\n",
        "aapl.price\n",
        "aapl.options\n",
        "aapl.hist_vol(30)\n",
        "aapl.rolling_hist_vol(30)"
      ],
      "outputs": [],
      "execution_count": null,
      "metadata": {
        "collapsed": false,
        "outputHidden": false,
        "inputHidden": false
      }
    },
    {
      "cell_type": "markdown",
      "source": [
        "## 12. FinanceDataReader"
      ],
      "metadata": {}
    },
    {
      "cell_type": "markdown",
      "source": [
        "https://github.com/FinanceData/FinanceDataReader"
      ],
      "metadata": {}
    },
    {
      "cell_type": "code",
      "source": [
        "import FinanceDataReader as fdr\n",
        "\n",
        "# Apple(AAPL), 2017-01-01 ~ Now\n",
        "df = fdr.DataReader('AAPL', '2017')\n",
        "\n",
        "# AMAZON(AMZN), 2017\n",
        "df = fdr.DataReader('AMZN', '2017-01-01', '2017-12-31')"
      ],
      "outputs": [],
      "execution_count": null,
      "metadata": {
        "collapsed": false,
        "outputHidden": false,
        "inputHidden": false
      }
    },
    {
      "cell_type": "markdown",
      "source": [
        "# If there are more places you can download historical data, I will add more. Let me know. Email me please."
      ],
      "metadata": {}
    }
  ],
  "metadata": {
    "kernel_info": {
      "name": "python3"
    },
    "language_info": {
      "pygments_lexer": "ipython3",
      "version": "3.5.5",
      "name": "python",
      "file_extension": ".py",
      "mimetype": "text/x-python",
      "codemirror_mode": {
        "name": "ipython",
        "version": 3
      },
      "nbconvert_exporter": "python"
    },
    "kernelspec": {
      "name": "python3",
      "language": "python",
      "display_name": "Python 3"
    },
    "nteract": {
      "version": "0.12.2"
    }
  },
  "nbformat": 4,
  "nbformat_minor": 4
}
